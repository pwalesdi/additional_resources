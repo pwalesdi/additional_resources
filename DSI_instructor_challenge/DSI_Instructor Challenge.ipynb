{
 "cells": [
  {
   "cell_type": "code",
   "execution_count": 1,
   "metadata": {},
   "outputs": [
    {
     "name": "stderr",
     "output_type": "stream",
     "text": [
      "Using TensorFlow backend.\n"
     ]
    }
   ],
   "source": [
    "from sklearn.cluster import KMeans\n",
    "from sklearn.decomposition import PCA\n",
    "from sklearn.linear_model import LinearRegression, LassoCV, RidgeCV, LogisticRegression, SGDClassifier\n",
    "from sklearn.preprocessing import StandardScaler, PolynomialFeatures, PowerTransformer\n",
    "from sklearn.model_selection import train_test_split, cross_val_score, GridSearchCV\n",
    "from sklearn.ensemble import VotingClassifier, RandomForestClassifier, ExtraTreesClassifier, BaggingClassifier, AdaBoostClassifier, GradientBoostingClassifier\n",
    "from sklearn.tree import DecisionTreeClassifier, DecisionTreeRegressor\n",
    "from sklearn.naive_bayes import MultinomialNB, ComplementNB\n",
    "from sklearn.neighbors import KNeighborsRegressor, KNeighborsClassifier\n",
    "from sklearn import metrics\n",
    "from sklearn.base import BaseEstimator\n",
    "from sklearn.svm import SVC, SVR \n",
    "from sklearn.metrics import mean_squared_error, f1_score, confusion_matrix\n",
    "from imblearn.over_sampling import RandomOverSampler"
   ]
  },
  {
   "cell_type": "code",
   "execution_count": 63,
   "metadata": {},
   "outputs": [],
   "source": [
    "import os"
   ]
  },
  {
   "cell_type": "code",
   "execution_count": 3,
   "metadata": {},
   "outputs": [],
   "source": [
    "import pandas as pd\n",
    "import numpy as np\n",
    "import matplotlib.pyplot as plt\n",
    "\n",
    "pd.set_option('display.max_rows', 500)\n",
    "pd.set_option('display.max_columns', 500)\n",
    "pd.set_option('display.width', 1000)"
   ]
  },
  {
   "cell_type": "markdown",
   "metadata": {},
   "source": [
    "## Load in Dataset & Transform Data"
   ]
  },
  {
   "cell_type": "code",
   "execution_count": 33,
   "metadata": {},
   "outputs": [
    {
     "data": {
      "text/html": [
       "<div>\n",
       "<style scoped>\n",
       "    .dataframe tbody tr th:only-of-type {\n",
       "        vertical-align: middle;\n",
       "    }\n",
       "\n",
       "    .dataframe tbody tr th {\n",
       "        vertical-align: top;\n",
       "    }\n",
       "\n",
       "    .dataframe thead th {\n",
       "        text-align: right;\n",
       "    }\n",
       "</style>\n",
       "<table border=\"1\" class=\"dataframe\">\n",
       "  <thead>\n",
       "    <tr style=\"text-align: right;\">\n",
       "      <th></th>\n",
       "      <th>ID</th>\n",
       "      <th>diagnosis</th>\n",
       "      <th>radius_mean</th>\n",
       "      <th>radius_sd_error</th>\n",
       "      <th>radius_worst</th>\n",
       "      <th>texture_mean</th>\n",
       "      <th>texture_sd_error</th>\n",
       "      <th>texture_worst</th>\n",
       "      <th>perimeter_mean</th>\n",
       "      <th>perimeter_sd_error</th>\n",
       "      <th>perimeter_worst</th>\n",
       "      <th>area_mean</th>\n",
       "      <th>area_sd_error</th>\n",
       "      <th>area_worst</th>\n",
       "      <th>smoothness_mean</th>\n",
       "      <th>smoothness_sd_error</th>\n",
       "      <th>smoothness_worst</th>\n",
       "      <th>compactness_mean</th>\n",
       "      <th>compactness_sd_error</th>\n",
       "      <th>compactness_worst</th>\n",
       "      <th>concavity_mean</th>\n",
       "      <th>concavity_sd_error</th>\n",
       "      <th>concavity_worst</th>\n",
       "      <th>concave_points_mean</th>\n",
       "      <th>concave_points_sd_error</th>\n",
       "      <th>concave_points_worst</th>\n",
       "      <th>symmetry_mean</th>\n",
       "      <th>symmetry_sd_error</th>\n",
       "      <th>symmetry_worst</th>\n",
       "      <th>fractal_dimension_mean</th>\n",
       "      <th>fractal_dimension_sd_error</th>\n",
       "      <th>fractal_dimension_worst</th>\n",
       "    </tr>\n",
       "  </thead>\n",
       "  <tbody>\n",
       "    <tr>\n",
       "      <th>0</th>\n",
       "      <td>842302</td>\n",
       "      <td>0</td>\n",
       "      <td>17.99</td>\n",
       "      <td>10.38</td>\n",
       "      <td>122.8</td>\n",
       "      <td>1001.0</td>\n",
       "      <td>0.11840</td>\n",
       "      <td>0.27760</td>\n",
       "      <td>0.3001</td>\n",
       "      <td>0.14710</td>\n",
       "      <td>0.2419</td>\n",
       "      <td>0.07871</td>\n",
       "      <td>1.0950</td>\n",
       "      <td>0.9053</td>\n",
       "      <td>8.589</td>\n",
       "      <td>153.40</td>\n",
       "      <td>0.006399</td>\n",
       "      <td>0.04904</td>\n",
       "      <td>0.05373</td>\n",
       "      <td>0.01587</td>\n",
       "      <td>0.03003</td>\n",
       "      <td>0.006193</td>\n",
       "      <td>25.38</td>\n",
       "      <td>17.33</td>\n",
       "      <td>184.6</td>\n",
       "      <td>2019.0</td>\n",
       "      <td>0.1622</td>\n",
       "      <td>0.6656</td>\n",
       "      <td>0.7119</td>\n",
       "      <td>0.2654</td>\n",
       "      <td>0.4601</td>\n",
       "      <td>0.11890</td>\n",
       "    </tr>\n",
       "    <tr>\n",
       "      <th>1</th>\n",
       "      <td>842517</td>\n",
       "      <td>0</td>\n",
       "      <td>20.57</td>\n",
       "      <td>17.77</td>\n",
       "      <td>132.9</td>\n",
       "      <td>1326.0</td>\n",
       "      <td>0.08474</td>\n",
       "      <td>0.07864</td>\n",
       "      <td>0.0869</td>\n",
       "      <td>0.07017</td>\n",
       "      <td>0.1812</td>\n",
       "      <td>0.05667</td>\n",
       "      <td>0.5435</td>\n",
       "      <td>0.7339</td>\n",
       "      <td>3.398</td>\n",
       "      <td>74.08</td>\n",
       "      <td>0.005225</td>\n",
       "      <td>0.01308</td>\n",
       "      <td>0.01860</td>\n",
       "      <td>0.01340</td>\n",
       "      <td>0.01389</td>\n",
       "      <td>0.003532</td>\n",
       "      <td>24.99</td>\n",
       "      <td>23.41</td>\n",
       "      <td>158.8</td>\n",
       "      <td>1956.0</td>\n",
       "      <td>0.1238</td>\n",
       "      <td>0.1866</td>\n",
       "      <td>0.2416</td>\n",
       "      <td>0.1860</td>\n",
       "      <td>0.2750</td>\n",
       "      <td>0.08902</td>\n",
       "    </tr>\n",
       "    <tr>\n",
       "      <th>2</th>\n",
       "      <td>84300903</td>\n",
       "      <td>0</td>\n",
       "      <td>19.69</td>\n",
       "      <td>21.25</td>\n",
       "      <td>130.0</td>\n",
       "      <td>1203.0</td>\n",
       "      <td>0.10960</td>\n",
       "      <td>0.15990</td>\n",
       "      <td>0.1974</td>\n",
       "      <td>0.12790</td>\n",
       "      <td>0.2069</td>\n",
       "      <td>0.05999</td>\n",
       "      <td>0.7456</td>\n",
       "      <td>0.7869</td>\n",
       "      <td>4.585</td>\n",
       "      <td>94.03</td>\n",
       "      <td>0.006150</td>\n",
       "      <td>0.04006</td>\n",
       "      <td>0.03832</td>\n",
       "      <td>0.02058</td>\n",
       "      <td>0.02250</td>\n",
       "      <td>0.004571</td>\n",
       "      <td>23.57</td>\n",
       "      <td>25.53</td>\n",
       "      <td>152.5</td>\n",
       "      <td>1709.0</td>\n",
       "      <td>0.1444</td>\n",
       "      <td>0.4245</td>\n",
       "      <td>0.4504</td>\n",
       "      <td>0.2430</td>\n",
       "      <td>0.3613</td>\n",
       "      <td>0.08758</td>\n",
       "    </tr>\n",
       "  </tbody>\n",
       "</table>\n",
       "</div>"
      ],
      "text/plain": [
       "0        ID  diagnosis  radius_mean  radius_sd_error  radius_worst  texture_mean  texture_sd_error  texture_worst  perimeter_mean  perimeter_sd_error  perimeter_worst  area_mean  area_sd_error  area_worst  smoothness_mean  smoothness_sd_error  smoothness_worst  compactness_mean  compactness_sd_error  compactness_worst  concavity_mean  concavity_sd_error  concavity_worst  concave_points_mean  concave_points_sd_error  concave_points_worst  symmetry_mean  symmetry_sd_error  symmetry_worst  fractal_dimension_mean  fractal_dimension_sd_error  fractal_dimension_worst\n",
       "0    842302          0        17.99            10.38         122.8        1001.0           0.11840        0.27760          0.3001             0.14710           0.2419    0.07871         1.0950      0.9053            8.589               153.40          0.006399           0.04904               0.05373            0.01587         0.03003            0.006193            25.38                17.33                    184.6                2019.0         0.1622             0.6656          0.7119                  0.2654                      0.4601                  0.11890\n",
       "1    842517          0        20.57            17.77         132.9        1326.0           0.08474        0.07864          0.0869             0.07017           0.1812    0.05667         0.5435      0.7339            3.398                74.08          0.005225           0.01308               0.01860            0.01340         0.01389            0.003532            24.99                23.41                    158.8                1956.0         0.1238             0.1866          0.2416                  0.1860                      0.2750                  0.08902\n",
       "2  84300903          0        19.69            21.25         130.0        1203.0           0.10960        0.15990          0.1974             0.12790           0.2069    0.05999         0.7456      0.7869            4.585                94.03          0.006150           0.04006               0.03832            0.02058         0.02250            0.004571            23.57                25.53                    152.5                1709.0         0.1444             0.4245          0.4504                  0.2430                      0.3613                  0.08758"
      ]
     },
     "execution_count": 33,
     "metadata": {},
     "output_type": "execute_result"
    }
   ],
   "source": [
    "labels = pd.read_csv('field_names.txt', header=None) # Import the lables\n",
    "cancer = pd.read_csv('breast-cancer.csv', header=None) # Import the breast cancer data\n",
    "labels = labels.squeeze() # squeeze the labels so that they can be applied to the cancer df as columns\n",
    "cancer.columns = labels # Add the labels as the column titles\n",
    "cancer['diagnosis'] = cancer['diagnosis'].map({\"M\" : 0, \"B\" : 1}) # Map the diagnosis to be 1 for breast cancer and 0 for malignant \n",
    "cancer.head(3) # check out our DF"
   ]
  },
  {
   "cell_type": "markdown",
   "metadata": {},
   "source": [
    "## Plot the relationships between the Diagnosis and the Mean of each feature"
   ]
  },
  {
   "cell_type": "markdown",
   "metadata": {},
   "source": [
    "The plots below display all of the relationships between the means of features of those who were diagnosed as having breast cancer vs. those who were diagnosed as having malignant tumors. The X axis of each of the graphs is two columns: 0 (representing those who were diagnosed as malignant) and 1 (representing those who were diagnosed as having cancer). The points are specific values in the sample space. you can see the radius_mean, smoothness_mean, and fractal_dimension_mean seem to be more related with the target variable than the other variables. For example compactness and area don't seem to be particularly related at all."
   ]
  },
  {
   "cell_type": "code",
   "execution_count": 5,
   "metadata": {
    "scrolled": false
   },
   "outputs": [
    {
     "data": {
      "image/png": "[encoded data removed]",
      "text/plain": [
       "<Figure size 1152x1584 with 12 Axes>"
      ]
     },
     "metadata": {
      "needs_background": "light"
     },
     "output_type": "display_data"
    }
   ],
   "source": [
    "fig, ((ax1, ax2, ax3), (ax4, ax5, ax6), (ax7, ax8, ax9), (ax10, ax11, ax12)) = plt.subplots(4, 3, sharex=True, sharey=False, figsize=(16,22))\n",
    "ax1.scatter(cancer['diagnosis'], cancer[\"radius_mean\"])\n",
    "ax2.scatter(cancer['diagnosis'], cancer[\"texture_mean\"])\n",
    "ax3.scatter(cancer['diagnosis'], cancer[\"perimeter_mean\"])\n",
    "ax4.scatter(cancer['diagnosis'], cancer[\"area_mean\"])\n",
    "ax5.scatter(cancer['diagnosis'], cancer[\"smoothness_mean\"])\n",
    "ax6.scatter(cancer['diagnosis'], cancer[\"compactness_mean\"])\n",
    "ax7.scatter(cancer['diagnosis'], cancer[\"concavity_mean\"])\n",
    "ax8.scatter(cancer['diagnosis'], cancer[\"concave_points_mean\"])\n",
    "ax9.scatter(cancer['diagnosis'], cancer[\"symmetry_mean\"])\n",
    "ax10.scatter(cancer['diagnosis'], cancer[\"fractal_dimension_mean\"]);\n",
    "ax1.set_title(\"Radius\")\n",
    "ax2.set_title(\"Texture\")\n",
    "ax3.set_title(\"Perimeter\")\n",
    "ax4.set_title(\"Area\")\n",
    "ax5.set_title(\"Smoothness\")\n",
    "ax6.set_title(\"Compactness\")\n",
    "ax7.set_title(\"Concavity\")\n",
    "ax8.set_title(\"Concave\")\n",
    "ax9.set_title(\"Symmetry\")\n",
    "ax10.set_title(\"Fractal\");"
   ]
  },
  {
   "cell_type": "code",
   "execution_count": 6,
   "metadata": {},
   "outputs": [
    {
     "data": {
      "text/html": [
       "<div>\n",
       "<style scoped>\n",
       "    .dataframe tbody tr th:only-of-type {\n",
       "        vertical-align: middle;\n",
       "    }\n",
       "\n",
       "    .dataframe tbody tr th {\n",
       "        vertical-align: top;\n",
       "    }\n",
       "\n",
       "    .dataframe thead th {\n",
       "        text-align: right;\n",
       "    }\n",
       "</style>\n",
       "<table border=\"1\" class=\"dataframe\">\n",
       "  <thead>\n",
       "    <tr style=\"text-align: right;\">\n",
       "      <th></th>\n",
       "      <th>ID</th>\n",
       "      <th>diagnosis</th>\n",
       "      <th>radius_mean</th>\n",
       "      <th>radius_sd_error</th>\n",
       "      <th>radius_worst</th>\n",
       "      <th>texture_mean</th>\n",
       "      <th>texture_sd_error</th>\n",
       "      <th>texture_worst</th>\n",
       "      <th>perimeter_mean</th>\n",
       "      <th>perimeter_sd_error</th>\n",
       "      <th>perimeter_worst</th>\n",
       "      <th>area_mean</th>\n",
       "      <th>area_sd_error</th>\n",
       "      <th>area_worst</th>\n",
       "      <th>smoothness_mean</th>\n",
       "      <th>smoothness_sd_error</th>\n",
       "      <th>smoothness_worst</th>\n",
       "      <th>compactness_mean</th>\n",
       "      <th>compactness_sd_error</th>\n",
       "      <th>compactness_worst</th>\n",
       "      <th>concavity_mean</th>\n",
       "      <th>concavity_sd_error</th>\n",
       "      <th>concavity_worst</th>\n",
       "      <th>concave_points_mean</th>\n",
       "      <th>concave_points_sd_error</th>\n",
       "      <th>concave_points_worst</th>\n",
       "      <th>symmetry_mean</th>\n",
       "      <th>symmetry_sd_error</th>\n",
       "      <th>symmetry_worst</th>\n",
       "      <th>fractal_dimension_mean</th>\n",
       "      <th>fractal_dimension_sd_error</th>\n",
       "      <th>fractal_dimension_worst</th>\n",
       "    </tr>\n",
       "  </thead>\n",
       "  <tbody>\n",
       "    <tr>\n",
       "      <th>0</th>\n",
       "      <td>842302</td>\n",
       "      <td>0</td>\n",
       "      <td>17.99</td>\n",
       "      <td>10.38</td>\n",
       "      <td>122.8</td>\n",
       "      <td>1001.0</td>\n",
       "      <td>0.11840</td>\n",
       "      <td>0.27760</td>\n",
       "      <td>0.3001</td>\n",
       "      <td>0.14710</td>\n",
       "      <td>0.2419</td>\n",
       "      <td>0.07871</td>\n",
       "      <td>1.0950</td>\n",
       "      <td>0.9053</td>\n",
       "      <td>8.589</td>\n",
       "      <td>153.40</td>\n",
       "      <td>0.006399</td>\n",
       "      <td>0.04904</td>\n",
       "      <td>0.05373</td>\n",
       "      <td>0.01587</td>\n",
       "      <td>0.03003</td>\n",
       "      <td>0.006193</td>\n",
       "      <td>25.38</td>\n",
       "      <td>17.33</td>\n",
       "      <td>184.6</td>\n",
       "      <td>2019.0</td>\n",
       "      <td>0.1622</td>\n",
       "      <td>0.6656</td>\n",
       "      <td>0.7119</td>\n",
       "      <td>0.2654</td>\n",
       "      <td>0.4601</td>\n",
       "      <td>0.11890</td>\n",
       "    </tr>\n",
       "    <tr>\n",
       "      <th>1</th>\n",
       "      <td>842517</td>\n",
       "      <td>0</td>\n",
       "      <td>20.57</td>\n",
       "      <td>17.77</td>\n",
       "      <td>132.9</td>\n",
       "      <td>1326.0</td>\n",
       "      <td>0.08474</td>\n",
       "      <td>0.07864</td>\n",
       "      <td>0.0869</td>\n",
       "      <td>0.07017</td>\n",
       "      <td>0.1812</td>\n",
       "      <td>0.05667</td>\n",
       "      <td>0.5435</td>\n",
       "      <td>0.7339</td>\n",
       "      <td>3.398</td>\n",
       "      <td>74.08</td>\n",
       "      <td>0.005225</td>\n",
       "      <td>0.01308</td>\n",
       "      <td>0.01860</td>\n",
       "      <td>0.01340</td>\n",
       "      <td>0.01389</td>\n",
       "      <td>0.003532</td>\n",
       "      <td>24.99</td>\n",
       "      <td>23.41</td>\n",
       "      <td>158.8</td>\n",
       "      <td>1956.0</td>\n",
       "      <td>0.1238</td>\n",
       "      <td>0.1866</td>\n",
       "      <td>0.2416</td>\n",
       "      <td>0.1860</td>\n",
       "      <td>0.2750</td>\n",
       "      <td>0.08902</td>\n",
       "    </tr>\n",
       "    <tr>\n",
       "      <th>2</th>\n",
       "      <td>84300903</td>\n",
       "      <td>0</td>\n",
       "      <td>19.69</td>\n",
       "      <td>21.25</td>\n",
       "      <td>130.0</td>\n",
       "      <td>1203.0</td>\n",
       "      <td>0.10960</td>\n",
       "      <td>0.15990</td>\n",
       "      <td>0.1974</td>\n",
       "      <td>0.12790</td>\n",
       "      <td>0.2069</td>\n",
       "      <td>0.05999</td>\n",
       "      <td>0.7456</td>\n",
       "      <td>0.7869</td>\n",
       "      <td>4.585</td>\n",
       "      <td>94.03</td>\n",
       "      <td>0.006150</td>\n",
       "      <td>0.04006</td>\n",
       "      <td>0.03832</td>\n",
       "      <td>0.02058</td>\n",
       "      <td>0.02250</td>\n",
       "      <td>0.004571</td>\n",
       "      <td>23.57</td>\n",
       "      <td>25.53</td>\n",
       "      <td>152.5</td>\n",
       "      <td>1709.0</td>\n",
       "      <td>0.1444</td>\n",
       "      <td>0.4245</td>\n",
       "      <td>0.4504</td>\n",
       "      <td>0.2430</td>\n",
       "      <td>0.3613</td>\n",
       "      <td>0.08758</td>\n",
       "    </tr>\n",
       "  </tbody>\n",
       "</table>\n",
       "</div>"
      ],
      "text/plain": [
       "0        ID  diagnosis  radius_mean  radius_sd_error  radius_worst  texture_mean  texture_sd_error  texture_worst  perimeter_mean  perimeter_sd_error  perimeter_worst  area_mean  area_sd_error  area_worst  smoothness_mean  smoothness_sd_error  smoothness_worst  compactness_mean  compactness_sd_error  compactness_worst  concavity_mean  concavity_sd_error  concavity_worst  concave_points_mean  concave_points_sd_error  concave_points_worst  symmetry_mean  symmetry_sd_error  symmetry_worst  fractal_dimension_mean  fractal_dimension_sd_error  fractal_dimension_worst\n",
       "0    842302          0        17.99            10.38         122.8        1001.0           0.11840        0.27760          0.3001             0.14710           0.2419    0.07871         1.0950      0.9053            8.589               153.40          0.006399           0.04904               0.05373            0.01587         0.03003            0.006193            25.38                17.33                    184.6                2019.0         0.1622             0.6656          0.7119                  0.2654                      0.4601                  0.11890\n",
       "1    842517          0        20.57            17.77         132.9        1326.0           0.08474        0.07864          0.0869             0.07017           0.1812    0.05667         0.5435      0.7339            3.398                74.08          0.005225           0.01308               0.01860            0.01340         0.01389            0.003532            24.99                23.41                    158.8                1956.0         0.1238             0.1866          0.2416                  0.1860                      0.2750                  0.08902\n",
       "2  84300903          0        19.69            21.25         130.0        1203.0           0.10960        0.15990          0.1974             0.12790           0.2069    0.05999         0.7456      0.7869            4.585                94.03          0.006150           0.04006               0.03832            0.02058         0.02250            0.004571            23.57                25.53                    152.5                1709.0         0.1444             0.4245          0.4504                  0.2430                      0.3613                  0.08758"
      ]
     },
     "execution_count": 6,
     "metadata": {},
     "output_type": "execute_result"
    }
   ],
   "source": [
    "cancer.head(3)"
   ]
  },
  {
   "cell_type": "markdown",
   "metadata": {},
   "source": [
    "## Plot the relationships between the Diagnosis and the Worst value of each feature"
   ]
  },
  {
   "cell_type": "code",
   "execution_count": 7,
   "metadata": {
    "scrolled": false
   },
   "outputs": [
    {
     "data": {
      "image/png": "[encoded data removed]",
      "text/plain": [
       "<Figure size 1152x1584 with 12 Axes>"
      ]
     },
     "metadata": {
      "needs_background": "light"
     },
     "output_type": "display_data"
    }
   ],
   "source": [
    "fig, ((ax1, ax2, ax3), (ax4, ax5, ax6), (ax7, ax8, ax9), (ax10, ax11, ax12)) = plt.subplots(4, 3, sharex=True, sharey=False, figsize=(16,22))\n",
    "ax1.scatter(cancer['diagnosis'], cancer[\"radius_worst\"])\n",
    "ax2.scatter(cancer['diagnosis'], cancer[\"texture_worst\"])\n",
    "ax3.scatter(cancer['diagnosis'], cancer[\"perimeter_worst\"])\n",
    "ax4.scatter(cancer['diagnosis'], cancer[\"area_worst\"])\n",
    "ax5.scatter(cancer['diagnosis'], cancer[\"smoothness_worst\"])\n",
    "ax6.scatter(cancer['diagnosis'], cancer[\"compactness_worst\"])\n",
    "ax7.scatter(cancer['diagnosis'], cancer[\"concavity_worst\"])\n",
    "ax8.scatter(cancer['diagnosis'], cancer[\"concave_points_worst\"])\n",
    "ax9.scatter(cancer['diagnosis'], cancer[\"symmetry_worst\"])\n",
    "ax10.scatter(cancer['diagnosis'], cancer[\"fractal_dimension_worst\"]);\n",
    "ax1.set_title(\"Radius\")\n",
    "ax2.set_title(\"Texture\")\n",
    "ax3.set_title(\"Perimeter\")\n",
    "ax4.set_title(\"Area\")\n",
    "ax5.set_title(\"Smoothness\")\n",
    "ax6.set_title(\"Compactness\")\n",
    "ax7.set_title(\"Concavity\")\n",
    "ax8.set_title(\"Concave\")\n",
    "ax9.set_title(\"Symmetry\")\n",
    "ax10.set_title(\"Fractal\");"
   ]
  },
  {
   "cell_type": "markdown",
   "metadata": {},
   "source": [
    "## Look at how the mean of smoothness, compactness and fractal dimension compares from those diagnosed with breast cancer to those who were classified as malignant. "
   ]
  },
  {
   "cell_type": "code",
   "execution_count": 8,
   "metadata": {},
   "outputs": [
    {
     "data": {
      "text/html": [
       "<div>\n",
       "<style scoped>\n",
       "    .dataframe tbody tr th:only-of-type {\n",
       "        vertical-align: middle;\n",
       "    }\n",
       "\n",
       "    .dataframe tbody tr th {\n",
       "        vertical-align: top;\n",
       "    }\n",
       "\n",
       "    .dataframe thead tr th {\n",
       "        text-align: left;\n",
       "    }\n",
       "\n",
       "    .dataframe thead tr:last-of-type th {\n",
       "        text-align: right;\n",
       "    }\n",
       "</style>\n",
       "<table border=\"1\" class=\"dataframe\">\n",
       "  <thead>\n",
       "    <tr>\n",
       "      <th></th>\n",
       "      <th>smoothness_mean</th>\n",
       "      <th>compactness_mean</th>\n",
       "      <th>fractal_dimension_mean</th>\n",
       "    </tr>\n",
       "    <tr>\n",
       "      <th></th>\n",
       "      <th>mean</th>\n",
       "      <th>mean</th>\n",
       "      <th>mean</th>\n",
       "    </tr>\n",
       "    <tr>\n",
       "      <th>diagnosis</th>\n",
       "      <th></th>\n",
       "      <th></th>\n",
       "      <th></th>\n",
       "    </tr>\n",
       "  </thead>\n",
       "  <tbody>\n",
       "    <tr>\n",
       "      <th>0</th>\n",
       "      <td>4.323929</td>\n",
       "      <td>0.032281</td>\n",
       "      <td>0.182237</td>\n",
       "    </tr>\n",
       "    <tr>\n",
       "      <th>1</th>\n",
       "      <td>2.000321</td>\n",
       "      <td>0.021438</td>\n",
       "      <td>0.074444</td>\n",
       "    </tr>\n",
       "  </tbody>\n",
       "</table>\n",
       "</div>"
      ],
      "text/plain": [
       "          smoothness_mean compactness_mean fractal_dimension_mean\n",
       "                     mean             mean                   mean\n",
       "diagnosis                                                        \n",
       "0                4.323929         0.032281               0.182237\n",
       "1                2.000321         0.021438               0.074444"
      ]
     },
     "execution_count": 8,
     "metadata": {},
     "output_type": "execute_result"
    }
   ],
   "source": [
    "cancer.groupby(by=\"diagnosis\")['smoothness_mean', 'compactness_mean', 'fractal_dimension_mean'].agg(['mean'])"
   ]
  },
  {
   "cell_type": "markdown",
   "metadata": {},
   "source": [
    "### Writing a function to bootstrap our data"
   ]
  },
  {
   "cell_type": "code",
   "execution_count": 55,
   "metadata": {},
   "outputs": [],
   "source": [
    "def bootstrap_data(x):\n",
    "    x_bootstraped = x.sample(\n",
    "        n=x.shape[0], # sample of size n\n",
    "        replace=True,\n",
    "        random_state=42)\n",
    "    return x_bootstraped"
   ]
  },
  {
   "cell_type": "code",
   "execution_count": 56,
   "metadata": {},
   "outputs": [],
   "source": [
    "cancer = bootstrap_data(cancer) # Using the bootstrapping function to bootstrap the cancer DF"
   ]
  },
  {
   "cell_type": "code",
   "execution_count": 57,
   "metadata": {},
   "outputs": [],
   "source": [
    "y = cancer['diagnosis'] # Setting the target variable which is diagnosis to y\n",
    "X = cancer.drop(columns='diagnosis') # Setting our features to test to X"
   ]
  },
  {
   "cell_type": "code",
   "execution_count": 58,
   "metadata": {},
   "outputs": [],
   "source": [
    "ss = StandardScaler() # Instantiate a standard scalar\n",
    "X_sc = ss.fit_transform(X) # Fit and transform our X variable\n",
    "# ros = RandomOverSampler(random_state=0) # Instantiate a random oversampler in order to oversample our training set\n",
    "# X_resampled, y_resampled = ros.fit_resample(X_sc, y) # Fit that oversampler to our X_sc (scaled) and y data\n",
    "# print(sorted(Counter(y_resampled).items())) # Show the balance btw classes"
   ]
  },
  {
   "cell_type": "code",
   "execution_count": 59,
   "metadata": {},
   "outputs": [],
   "source": [
    "# Train, test, split\n",
    "X_train, X_test, y_train, y_test = train_test_split(X_sc, y, random_state=100, test_size=0.25)"
   ]
  },
  {
   "cell_type": "markdown",
   "metadata": {},
   "source": [
    "# Modeling:\n",
    "### Here we are going to instantiate a number of different models. I chose the modeling parameters by running each model through a GridSearch below"
   ]
  },
  {
   "cell_type": "code",
   "execution_count": 60,
   "metadata": {},
   "outputs": [],
   "source": [
    "lr_class = LogisticRegression(penalty='l2', C=0.08902150854450389, solver='liblinear')\n",
    "knn_class = KNeighborsClassifier(n_neighbors=3, p=4, leaf_size=10)\n",
    "tree_class = DecisionTreeClassifier(max_features='auto', min_samples_leaf=3, min_samples_split=4, random_state=100)\n",
    "bag_class = BaggingClassifier(bootstrap=False, max_features=8, max_samples=100, n_estimators=100, random_state=100)\n",
    "forest_class = RandomForestClassifier(bootstrap=True, max_leaf_nodes=None, min_samples_leaf=3, min_samples_split=8, n_estimators=9, random_state=100)\n",
    "ada_class = AdaBoostClassifier(learning_rate=0.78, n_estimators=100, random_state=100)\n",
    "svc = SVC(degree=8, C=2.5, gamma=0.1, kernel='poly', random_state=100)\n",
    "grad_class = GradientBoostingClassifier(learning_rate=0.08646535029500364, n_estimators=35, min_samples_leaf=3, min_samples_split=7, max_depth=4)"
   ]
  },
  {
   "cell_type": "code",
   "execution_count": 61,
   "metadata": {},
   "outputs": [
    {
     "name": "stdout",
     "output_type": "stream",
     "text": [
      "This is the shape of y_test preds (143, 8)\n",
      "This is the shape of y_test preds (426, 8)\n"
     ]
    },
    {
     "data": {
      "text/html": [
       "<div>\n",
       "<style scoped>\n",
       "    .dataframe tbody tr th:only-of-type {\n",
       "        vertical-align: middle;\n",
       "    }\n",
       "\n",
       "    .dataframe tbody tr th {\n",
       "        vertical-align: top;\n",
       "    }\n",
       "\n",
       "    .dataframe thead th {\n",
       "        text-align: right;\n",
       "    }\n",
       "</style>\n",
       "<table border=\"1\" class=\"dataframe\">\n",
       "  <thead>\n",
       "    <tr style=\"text-align: right;\">\n",
       "      <th></th>\n",
       "      <th>train_acc</th>\n",
       "      <th>test_acc</th>\n",
       "      <th>F1-train</th>\n",
       "      <th>F1-test</th>\n",
       "      <th>true_neg</th>\n",
       "      <th>fal_pos</th>\n",
       "      <th>fal_neg</th>\n",
       "      <th>true_po</th>\n",
       "    </tr>\n",
       "  </thead>\n",
       "  <tbody>\n",
       "    <tr>\n",
       "      <th>lr_class</th>\n",
       "      <td>0.985915</td>\n",
       "      <td>0.986014</td>\n",
       "      <td>0.987805</td>\n",
       "      <td>0.988506</td>\n",
       "      <td>55</td>\n",
       "      <td>2</td>\n",
       "      <td>0</td>\n",
       "      <td>86</td>\n",
       "    </tr>\n",
       "    <tr>\n",
       "      <th>forest_class</th>\n",
       "      <td>0.988263</td>\n",
       "      <td>0.986014</td>\n",
       "      <td>0.989858</td>\n",
       "      <td>0.988506</td>\n",
       "      <td>55</td>\n",
       "      <td>2</td>\n",
       "      <td>0</td>\n",
       "      <td>86</td>\n",
       "    </tr>\n",
       "    <tr>\n",
       "      <th>tree_class</th>\n",
       "      <td>0.983568</td>\n",
       "      <td>0.958042</td>\n",
       "      <td>0.985567</td>\n",
       "      <td>0.964706</td>\n",
       "      <td>55</td>\n",
       "      <td>2</td>\n",
       "      <td>4</td>\n",
       "      <td>82</td>\n",
       "    </tr>\n",
       "    <tr>\n",
       "      <th>ada_class</th>\n",
       "      <td>1.000000</td>\n",
       "      <td>0.986014</td>\n",
       "      <td>1.000000</td>\n",
       "      <td>0.988506</td>\n",
       "      <td>55</td>\n",
       "      <td>2</td>\n",
       "      <td>0</td>\n",
       "      <td>86</td>\n",
       "    </tr>\n",
       "    <tr>\n",
       "      <th>knn_class</th>\n",
       "      <td>0.983568</td>\n",
       "      <td>0.972028</td>\n",
       "      <td>0.985685</td>\n",
       "      <td>0.976744</td>\n",
       "      <td>55</td>\n",
       "      <td>2</td>\n",
       "      <td>2</td>\n",
       "      <td>84</td>\n",
       "    </tr>\n",
       "    <tr>\n",
       "      <th>bag_class</th>\n",
       "      <td>0.988263</td>\n",
       "      <td>0.986014</td>\n",
       "      <td>0.989858</td>\n",
       "      <td>0.988506</td>\n",
       "      <td>55</td>\n",
       "      <td>2</td>\n",
       "      <td>0</td>\n",
       "      <td>86</td>\n",
       "    </tr>\n",
       "    <tr>\n",
       "      <th>svc</th>\n",
       "      <td>0.988263</td>\n",
       "      <td>0.937063</td>\n",
       "      <td>0.989858</td>\n",
       "      <td>0.949153</td>\n",
       "      <td>50</td>\n",
       "      <td>7</td>\n",
       "      <td>2</td>\n",
       "      <td>84</td>\n",
       "    </tr>\n",
       "    <tr>\n",
       "      <th>grad</th>\n",
       "      <td>1.000000</td>\n",
       "      <td>0.972028</td>\n",
       "      <td>1.000000</td>\n",
       "      <td>0.977273</td>\n",
       "      <td>53</td>\n",
       "      <td>4</td>\n",
       "      <td>0</td>\n",
       "      <td>86</td>\n",
       "    </tr>\n",
       "  </tbody>\n",
       "</table>\n",
       "</div>"
      ],
      "text/plain": [
       "              train_acc  test_acc  F1-train   F1-test  true_neg  fal_pos  fal_neg  true_po\n",
       "lr_class       0.985915  0.986014  0.987805  0.988506        55        2        0       86\n",
       "forest_class   0.988263  0.986014  0.989858  0.988506        55        2        0       86\n",
       "tree_class     0.983568  0.958042  0.985567  0.964706        55        2        4       82\n",
       "ada_class      1.000000  0.986014  1.000000  0.988506        55        2        0       86\n",
       "knn_class      0.983568  0.972028  0.985685  0.976744        55        2        2       84\n",
       "bag_class      0.988263  0.986014  0.989858  0.988506        55        2        0       86\n",
       "svc            0.988263  0.937063  0.989858  0.949153        50        7        2       84\n",
       "grad           1.000000  0.972028  1.000000  0.977273        53        4        0       86"
      ]
     },
     "execution_count": 61,
     "metadata": {},
     "output_type": "execute_result"
    }
   ],
   "source": [
    "# Make a dictionary of each of the models with a corresponding label\n",
    "class_models = {\n",
    "            'lr_class': lr_class, \n",
    "            'forest_class': forest_class, \n",
    "            'tree_class': tree_class,\n",
    "            'ada_class': ada_class,            \n",
    "            'knn_class': knn_class, \n",
    "            'bag_class': bag_class, \n",
    "            'svc': svc,\n",
    "            \"grad\": grad_class\n",
    "                } \n",
    "# Create empty lists to populate with our training and testing predictions\n",
    "y_pred_test = []\n",
    "y_pred_train = []\n",
    "\n",
    "# Writing a for loop to iterate through each of the models above, generate predictions from each model & append to predictions lists\n",
    "for model in class_models.values():\n",
    "    model.fit(X_train, y_train)\n",
    "    y_pred_test.append(model.predict(X_test))\n",
    "    y_pred_train.append(model.predict(X_train))\n",
    "\n",
    "y_pred_test = pd.DataFrame(y_pred_test, index=class_models.keys()).T # Turn the list into a DF\n",
    "y_pred_train = pd.DataFrame(y_pred_train, index=class_models.keys()).T # Turn the list into a DF\n",
    "print(f'This is the shape of y_test preds {y_pred_test.shape}')\n",
    "print(f'This is the shape of y_test preds {y_pred_train.shape}')\n",
    "\n",
    "########### \n",
    "# In the line below I am creating a dictionary which will serve as the shell for a DF that will include all of the\n",
    "# evaluation metrics I want to display for each model: Accuracy, F1-Scores and TP, FP, TN & FN\n",
    "accuracy = {'train_acc': [], 'test_acc': [], 'F1-train': [], 'F1-test': [], 'true_neg': [], 'fal_pos': [], 'fal_neg': [], 'true_po': []}\n",
    "for model in class_models.values():\n",
    "    accuracy['train_acc'].append(model.score(X_train, y_train))\n",
    "    accuracy['test_acc'].append(model.score(X_test, y_test))\n",
    "for col in y_pred_test:\n",
    "    accuracy['F1-train'].append(f1_score(y_train, y_pred_train[col]))\n",
    "    accuracy['F1-test'].append(f1_score(y_test, y_pred_test[col]))\n",
    "for col in y_pred_test:\n",
    "    accuracy['true_neg'].append(confusion_matrix(y_test, y_pred_test[col])[0][0])\n",
    "    accuracy['fal_pos'].append(confusion_matrix(y_test, y_pred_test[col])[0][1])\n",
    "    accuracy['fal_neg'].append(confusion_matrix(y_test, y_pred_test[col])[1][0])\n",
    "    accuracy['true_po'].append(confusion_matrix(y_test, y_pred_test[col])[1][1])\n",
    "    \n",
    "accuracy = pd.DataFrame(accuracy, index=class_models.keys())\n",
    "accuracy"
   ]
  },
  {
   "cell_type": "markdown",
   "metadata": {},
   "source": [
    "## Model Explanation and Evaluation"
   ]
  },
  {
   "cell_type": "markdown",
   "metadata": {},
   "source": [
    "In the output above you can see that we tested both training and testing accuracy in order to be sure that our model wasn't over fitting. In addition this project is an attempt to look at data from breast cancer patients and determine the best way to be able to classify if someone is likely to have a malignant tumor or a tumor that indicates breast cancer. In this case, we need to look at a few more metrics. The F1-Score is an important metric in this analysis because it compares the harmonic mean between the precision and the recall. So basically it is testing to see how well your model does at controlling for both false positives and false negatives. In this can we are very concerned with having a false negative. We do not want to tell a patient that their tumor is malignant if it actually is a cancer tumor. You can see above that the models are doing a good job controlling for false negatives. The Adaboost Classifier, Gradient Boosting Classifier, Logistic Regression and Random Forest Classifier are all producing high accuracy and F1 scores while also having no false. I have found that with classification problems, these models typically outperform Bagging Classifiers and Decision Tree Classifiers, so the result isn't surprising. "
   ]
  },
  {
   "cell_type": "code",
   "execution_count": 50,
   "metadata": {},
   "outputs": [
    {
     "name": "stdout",
     "output_type": "stream",
     "text": [
      "Fitting 3 folds for each of 200 candidates, totalling 600 fits\n"
     ]
    },
    {
     "name": "stderr",
     "output_type": "stream",
     "text": [
      "[Parallel(n_jobs=2)]: Using backend LokyBackend with 2 concurrent workers.\n"
     ]
    },
    {
     "name": "stdout",
     "output_type": "stream",
     "text": [
      "0.9835680751173709\n",
      "\n",
      "{'C': 0.08902150854450389, 'penalty': 'l2', 'solver': 'liblinear'}\n",
      "\n",
      "0.9790209790209791\n"
     ]
    },
    {
     "name": "stderr",
     "output_type": "stream",
     "text": [
      "[Parallel(n_jobs=2)]: Done 600 out of 600 | elapsed:    0.9s finished\n"
     ]
    },
    {
     "data": {
      "text/plain": [
       "0.9878048780487805"
      ]
     },
     "execution_count": 50,
     "metadata": {},
     "output_type": "execute_result"
    }
   ],
   "source": [
    "# This is quite simply the cell I used to gridseach through each of the models\n",
    "params = {\n",
    "    'penalty' : ['l1', 'l2'],\n",
    "#     'min_samples_leaf' : [2, 3],\n",
    "#     'min_samples_split' : [6, 7, 8],\n",
    "#     'n_estimators' : [30, 35, 37],\n",
    "    \"C\" : (np.logspace(-2, 0, 100)),\n",
    "    \"solver\" : ['liblinear']\n",
    "}\n",
    "gs = GridSearchCV(\n",
    "    LogisticRegression(),\n",
    "    params,\n",
    "    cv=3,\n",
    "    verbose=1,\n",
    "    return_train_score=False,\n",
    "    n_jobs=2)\n",
    "gs.fit(X_train, y_train)\n",
    "print(gs.best_score_)\n",
    "print()\n",
    "print(gs.best_params_)\n",
    "print()\n",
    "print(gs.score(X_test, y_test))\n",
    "pred = model.predict(X_test)\n",
    "f1_score(y_test, pred)"
   ]
  },
  {
   "cell_type": "code",
   "execution_count": null,
   "metadata": {},
   "outputs": [],
   "source": []
  }
 ],
 "metadata": {
  "kernelspec": {
   "display_name": "Python 3",
   "language": "python",
   "name": "python3"
  },
  "language_info": {
   "codemirror_mode": {
    "name": "ipython",
    "version": 3
   },
   "file_extension": ".py",
   "mimetype": "text/x-python",
   "name": "python",
   "nbconvert_exporter": "python",
   "pygments_lexer": "ipython3",
   "version": "3.6.8"
  }
 },
 "nbformat": 4,
 "nbformat_minor": 2
}
