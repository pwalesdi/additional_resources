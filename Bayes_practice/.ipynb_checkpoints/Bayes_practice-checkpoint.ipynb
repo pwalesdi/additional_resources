{
 "cells": [
  {
   "cell_type": "markdown",
   "metadata": {},
   "source": [
    "## 10.01 Lab - Bayes Practice\n",
    "\n",
    "> Author: Matt Brems\n",
    "\n",
    "This lab will have two parts.\n",
    "\n",
    "- Part 1: Bayes Practice Problems\n",
    "- Part 2: Moving from Probabilities to Distributions"
   ]
  },
  {
   "cell_type": "markdown",
   "metadata": {},
   "source": [
    "### Part 1: Bayes Practice Problems\n",
    "\n",
    "##### Problem 1. You work at a financial services company that offers individual retirement accounts (IRAs). To target high potential customers, you want to find out if people with children are more likely to invest in IRAs.  \n",
    "\n",
    "So far you have found:\n",
    "- 30% of all Americans have IRAs.\n",
    "- half of Americans have children.\n",
    "- two-thirds of those with IRAs have children.\n",
    "\n",
    "Based on this information, what is the probability that someone with children has an IRA? "
   ]
  },
  {
   "cell_type": "markdown",
   "metadata": {},
   "source": [
    "**Answer:** "
   ]
  },
  {
   "cell_type": "code",
   "execution_count": 1,
   "metadata": {},
   "outputs": [
    {
     "data": {
      "text/plain": [
       "1.1166666666666667"
      ]
     },
     "execution_count": 1,
     "metadata": {},
     "output_type": "execute_result"
    }
   ],
   "source": [
    "p_ira_given_child = (.67*.5) / (.3)\n",
    "p_ira_given_child"
   ]
  },
  {
   "cell_type": "markdown",
   "metadata": {},
   "source": [
    "---\n",
    "$$\n",
    "\\begin{eqnarray*}\n",
    "P(IRA|Child) &=& \\frac{P(Child|IRA)*P(Child)}{P(IRA)} \\\\\n",
    "\\\\\n",
    "&=& \\frac{(0.67)*(0.50)}{(0.30)} \\\\\n",
    "\\\\\n",
    "&=& (1.116666) \\\\\n",
    "\\end{eqnarray*}\n",
    "$$"
   ]
  },
  {
   "cell_type": "markdown",
   "metadata": {},
   "source": [
    "##### Problem 2: Suppose I own a hotel and an apartment building. Times are tight, and I need to sell one of them. Both would earn me the exact same amount of money, so that doesn't help me to make my decision. Instead, I decide to make my decision based on my residents' satisfaction. \n",
    "- Whichever building has a higher percentage of satisfied people is the one I will choose to keep.\n",
    "- _However_, if the percent of satisfied guests for my hotel and the percent of satified guests for my apartment building are within 10% of one another, I will sell neither until I can bring in some outside consultants to help me make my decision.\n",
    "- Last winter, I administered a survey to *all* residents and found that 60% of them are satisfied.\n",
    "- Among satisfied respondents, two out of every five came from the apartment building.\n",
    "- One-third of my residents live in my apartment building.\n",
    "\n",
    "What action will I take?"
   ]
  },
  {
   "cell_type": "code",
   "execution_count": 5,
   "metadata": {},
   "outputs": [
    {
     "name": "stdout",
     "output_type": "stream",
     "text": [
      "The probability of a satisfied hotel customer is: 0.67\n",
      "The probability of a satisfied apartment customer is: 0.22000000000000003\n"
     ]
    }
   ],
   "source": [
    "p_sat_hotel = (.6*.67) / (.6)\n",
    "p_sat_apt = (.4*.33) / (.6)\n",
    "print(f'The probability of a satisfied hotel customer is: {p_sat_hotel}')\n",
    "print(f'The probability of a satisfied apartment customer is: {p_sat_apt}')"
   ]
  },
  {
   "cell_type": "markdown",
   "metadata": {},
   "source": [
    "**Answer:** I would recommend keeping the hotel because the probability of a satisfied customer among hotel residents is 0.67 and the probability of satisfied apartment customers is 0.22"
   ]
  },
  {
   "cell_type": "markdown",
   "metadata": {},
   "source": [
    "---\n",
    "$$\n",
    "\\begin{eqnarray*}\n",
    "P(Satisfied|Hotel) &=& \\frac{P(Hotel|Satisfied)*P(Hotel)}{P(Satisfied)} \\\\\n",
    "\\\\\n",
    "&=& \\frac{(0.6)*(0.67)}{(0.60)} \\\\\n",
    "\\\\\n",
    "&=& (0.67) \\\\\n",
    "\\end{eqnarray*}\n",
    "$$\n",
    "\n",
    "$$\n",
    "\\begin{eqnarray*}\n",
    "P(Satisfied|Apt) &=& \\frac{P(Apt|Satisfied)*P(Apt)}{P(Satisfied)} \\\\\n",
    "\\\\\n",
    "&=& \\frac{(0.4)*(0.33)}{(0.60)} \\\\\n",
    "\\\\\n",
    "&=& (0.22) \\\\\n",
    "\\end{eqnarray*}\n",
    "$$"
   ]
  },
  {
   "cell_type": "markdown",
   "metadata": {},
   "source": [
    "##### Problem 3: Suppose you and your friend are playing a game. Your friend has laid four coins out in front of you. If you flip heads, you win a dollar from your friend. If you flip tails, you owe a dollar to your friend. However, the coins in front of you are not fair.\n",
    "- One coin has a 80% chance of flipping heads. (Call this coin A.)\n",
    "- One coin has a 60% chance of flipping heads. (Call this coin B.)\n",
    "- One coin has a 40% chance of flipping heads. (Call this coin C.)\n",
    "- One coin has a 10% chance of flipping heads. (Call this coin D.)\n",
    "\n",
    "##### Problem 3-a) Suppose you select one coin at random. That is, you don't know whether you selected coin A, B, C, or D. You flip heads. Given this data, what are the probabilities that you selected coin A, coin B, coin C, and coin D?\n",
    "\n",
    "> Hint: When finding the marginal probability of flipping heads, you will need to use the Law of Total Probability! Find this **first**."
   ]
  },
  {
   "cell_type": "markdown",
   "metadata": {},
   "source": [
    "$$\n",
    "\\begin{eqnarray*}\n",
    "P(A|Heads) &=& \\frac{P(Head|A)*P(A)}{(P(Head|A)*P(A))+(P(Head|B)*P(B))+(P(Head|C)*P(C))+(P(Head|D)*P(D))} \\\\\n",
    "\\\\\n",
    "&=& \\frac{0.8*0.25}{0.25*(0.8+0.6+0.4+0.1)} \\\\\n",
    "\\\\\n",
    "&=& (0.421) \\\\\n",
    "\\end{eqnarray*}\n",
    "$$"
   ]
  },
  {
   "cell_type": "markdown",
   "metadata": {},
   "source": [
    "**Answer**: \n",
    "$$\n",
    "\\begin{eqnarray*}\n",
    "P(A|H) & = & 0.421 \\\\\n",
    "P(B|H) & = & 0.315 \\\\\n",
    "P(C|H) & = & 0.211 \\\\\n",
    "P(D|H) & = & 0.053 \\\\\n",
    "\\end{eqnarray*}\n",
    "$$\n",
    "\n"
   ]
  },
  {
   "cell_type": "markdown",
   "metadata": {},
   "source": [
    "##### BONUS: Problem 3-b) Suppose you are using the same coin as before. That is, you _still_ don't know whether you selected coin A, B, C, or D - although you have a better idea now that you flipped heads on your first flip! On this second flip, you flip tails. Given this data, what are the probabilities that you selected coin A, coin B, coin C, and coin D?\n",
    "\n",
    "> Hint: Everything now is **conditional on the fact that we have already flipped a heads**.\n",
    "\n",
    "$$\n",
    "\\begin{eqnarray*}\n",
    "P(A|B\\cap C) &=& \\frac{P(A\\cap B \\cap C)}{P(B\\cap C)} \\\\\n",
    "\\\\\n",
    "&=& \\frac{P(A\\cap B|C)P(C)}{P(B|C)P(C)} \\\\\n",
    "\\\\\n",
    "&=& \\frac{P(A\\cap B|C)}{P(B|C)} \\\\\n",
    "\\end{eqnarray*}\n",
    "$$"
   ]
  },
  {
   "cell_type": "code",
   "execution_count": 14,
   "metadata": {},
   "outputs": [
    {
     "name": "stdout",
     "output_type": "stream",
     "text": [
      "probability A given Tails conditional on heads first flip: 0.2185792349726776\n",
      "probability B given Tails conditional on heads first flip: 0.32786885245901637\n",
      "probability C given Tails conditional on heads first flip: 0.32943013270882116\n",
      "probability D given Tails conditional on heads first flip: 0.12412177985948476\n"
     ]
    }
   ],
   "source": [
    "print(f'probability A given Tails conditional on heads first flip: {(0.2*.42) / (.42*.2 + .4*.315 + .6*.211 + .9*.053)}')\n",
    "print(f'probability B given Tails conditional on heads first flip: {(0.4*.315) / (.42*.2 + .4*.315 + .6*.211 + .9*.053)}')\n",
    "print(f'probability C given Tails conditional on heads first flip: {(0.6*.211) / (.42*.2 + .4*.315 + .6*.211 + .9*.053)}')\n",
    "print(f'probability D given Tails conditional on heads first flip: {(0.9*.053) / (.42*.2 + .4*.315 + .6*.211 + .9*.053)}')"
   ]
  },
  {
   "cell_type": "markdown",
   "metadata": {},
   "source": [
    "**Answer**: \n",
    "$$\n",
    "\\begin{eqnarray*}\n",
    "P(A|T\\cap H) & = & 0.218 \\\\\n",
    "P(B|T\\cap H) & = & 0.328 \\\\\n",
    "P(C|T\\cap H) & = & 0.329 \\\\\n",
    "P(D|T\\cap H) & = & 0.124 \\\\\n",
    "\\end{eqnarray*}\n",
    "$$\n"
   ]
  },
  {
   "cell_type": "markdown",
   "metadata": {},
   "source": [
    "##### BONUS: Problem 3-c) Suppose you are using the same coin as before. That is, you _still_ don't know whether you selected coin A, B, C, or D - although you have a better idea now that you flipped heads, then tails on your first two flips! On this third flip, you flip tails. Given this data, what are the probabilities that you selected coin A, coin B, coin C, and coin D?\n",
    "\n",
    "> Hint: This will follow the same structure as the last two problems."
   ]
  },
  {
   "cell_type": "code",
   "execution_count": 21,
   "metadata": {},
   "outputs": [
    {
     "name": "stdout",
     "output_type": "stream",
     "text": [
      "probability A given Tails conditional on heads first flip: 0.09027889730775433\n",
      "probability B given Tails conditional on heads first flip: 0.270836691923263\n",
      "probability C given Tails conditional on heads first flip: 0.40818958568434627\n",
      "probability D given Tails conditional on heads first flip: 0.23069482508463648\n"
     ]
    }
   ],
   "source": [
    "print(f'probability A given Tails conditional on heads first flip: {(0.2*0.2185792349726776) / (.2185792349726776*.2 + .4*0.32786885245901637 + .6*0.32943013270882116 + .9*0.12412177985948476)}')\n",
    "print(f'probability B given Tails conditional on heads first flip: {(0.4*0.32786885245901637) / (.2185792349726776*.2 + .4*0.32786885245901637 + .6*0.32943013270882116 + .9*0.12412177985948476)}')\n",
    "print(f'probability C given Tails conditional on heads first flip: {(0.6*0.32943013270882116) / (.2185792349726776*.2 + .4*0.32786885245901637 + .6* 0.32943013270882116 + .9*0.12412177985948476)}')\n",
    "print(f'probability D given Tails conditional on heads first flip: {(0.9*0.12412177985948476) / (.2185792349726776*.2 + .4*0.32786885245901637 + .6* 0.32943013270882116 + .9*0.12412177985948476)}')"
   ]
  },
  {
   "cell_type": "markdown",
   "metadata": {},
   "source": [
    "**Answer**: \n",
    "$$\n",
    "\\begin{eqnarray*}\n",
    "P(A|T\\cap T\\cap H) & = & 0.090 \\\\\n",
    "P(B|T\\cap T\\cap H) & = & 0.271 \\\\\n",
    "P(C|T\\cap T\\cap H) & = & 0.408 \\\\\n",
    "P(D|T\\cap T\\cap H) & = & 0.231 \\\\\n",
    "\\end{eqnarray*}\n",
    "$$\n"
   ]
  },
  {
   "cell_type": "markdown",
   "metadata": {},
   "source": [
    "### Part 2: Moving from Probabilities to Distributions"
   ]
  },
  {
   "cell_type": "markdown",
   "metadata": {},
   "source": [
    "##### Problem 4. We want to look at our prior probabilities.\n",
    "\n",
    "##### Problem 4-a) In Problem 3, before you had flipped any coin, what was the probability that you had selected coin A? Coin B? Coin C? Coin D?"
   ]
  },
  {
   "cell_type": "markdown",
   "metadata": {},
   "source": [
    "**Answer:** The probability was equal 0.25 percent that I would select A, B, C or D"
   ]
  },
  {
   "cell_type": "markdown",
   "metadata": {},
   "source": [
    "##### Problem 4-b) What is the definition of a distribution?\n",
    "> Check your notes from the early weeks of the course if you can't remember."
   ]
  },
  {
   "cell_type": "markdown",
   "metadata": {},
   "source": [
    "**Answer:** The set of all possible outcomes and their associated probabilities"
   ]
  },
  {
   "cell_type": "markdown",
   "metadata": {},
   "source": [
    "##### Problem 4-c) What \"named distribution\" (i.e. a distribution that has a common name) could we apply to a situation where selecting coins A-D is equally likely?"
   ]
  },
  {
   "cell_type": "markdown",
   "metadata": {},
   "source": [
    "**Answer:** The Uniform Distribution"
   ]
  },
  {
   "cell_type": "markdown",
   "metadata": {},
   "source": [
    "##### Problem 4-d) Suppose that I have only one coin and I want to conduct inference on the probability of flipping heads, $p$. Note that $p$ is unknown. If I want to specify some prior distribution where all probabilities $p$ are equally likely, should I use a discrete or continuous distribution? Why?"
   ]
  },
  {
   "cell_type": "markdown",
   "metadata": {},
   "source": [
    "**Answer:** This is discrete because there are only two possible outcomes heads or tails and their associated probabilitites"
   ]
  },
  {
   "cell_type": "markdown",
   "metadata": {},
   "source": [
    "##### Problem 4-e) Suppose that I have only one coin and I want to conduct inference on the probability of flipping heads, $p$. Note that $p$ is unknown. If I want to specify some prior distribution where all probabilities $p$ are equally likely, then what named distribution might I use?"
   ]
  },
  {
   "cell_type": "markdown",
   "metadata": {},
   "source": [
    "**Answer:** The bernoulli distribution would be the distribution for 1 trail and if you had multiple trials of flipping the coin it would be a binomial distribution."
   ]
  },
  {
   "cell_type": "markdown",
   "metadata": {},
   "source": [
    "##### Problem 4-f) Suppose I have only one coin with some unknown probability of flipping heads $p$. If I think 50% is the likeliest value for $p$ and, as we get farther away from 50%, that value is less and less likely, what named distribution could I use?"
   ]
  },
  {
   "cell_type": "markdown",
   "metadata": {},
   "source": [
    "**Answer:**\n",
    "\n",
    "The normal distribution."
   ]
  },
  {
   "cell_type": "markdown",
   "metadata": {},
   "source": [
    "##### Problem 4-f) When we listed out our prior probabilities for each coin, we got the same number of posterior probabilities. For example, when we had four prior probabilities (one for Coin A, one for Coin B, one for Coin C, and one for Coin D), then we had four posterior probabilities (one for Coin A, for Coin B, one for Coin C, and one for Coin D). However, if we have one prior distribution, then we will get one posterior distribution. What are some advantages to being able to summarize our posterior with one distribution instead of a big list of probabilities?"
   ]
  },
  {
   "cell_type": "markdown",
   "metadata": {},
   "source": [
    "**Answer:**\n",
    "Because then we can understand what the probability is for any possible values ok k and not just the particular instances that we looked at."
   ]
  }
 ],
 "metadata": {
  "kernelspec": {
   "display_name": "Python 3",
   "language": "python",
   "name": "python3"
  },
  "language_info": {
   "codemirror_mode": {
    "name": "ipython",
    "version": 3
   },
   "file_extension": ".py",
   "mimetype": "text/x-python",
   "name": "python",
   "nbconvert_exporter": "python",
   "pygments_lexer": "ipython3",
   "version": "3.6.8"
  }
 },
 "nbformat": 4,
 "nbformat_minor": 2
}
